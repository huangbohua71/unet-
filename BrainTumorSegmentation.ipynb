{
 "cells": [
  {
   "cell_type": "markdown",
   "metadata": {},
   "source": [
    "# Brain Tumor Segmentation"
   ]
  },
  {
   "cell_type": "code",
   "execution_count": 1,
   "metadata": {},
   "outputs": [],
   "source": [
    "import os\n",
    "import numpy as np\n",
    "import matplotlib.pyplot as plt\n",
    "\n",
    "from UNetPPDataGenerator import ImageDataGen\n",
    "from UNetPP import UNetPlusPlus\n",
    "from ImageDataExtractor import ImageDataExtractor"
   ]
  },
  {
   "cell_type": "code",
   "execution_count": 2,
   "metadata": {},
   "outputs": [
    {
     "name": "stdout",
     "output_type": "stream",
     "text": [
      ">>> Data already downloaded. Check the following directoies\n",
      "-----------------------------------------------------------\n",
      ">>> Mat files located @ 'data\\matData'\n",
      ">>> Image files located @ 'data\\imgData\\img'\n",
      ">>> Mask files located @ 'data\\imgData\\mask'\n",
      ">>> Data ReadMe located @ 'data\\README.txt'\n"
     ]
    }
   ],
   "source": [
    "dataExtractor = ImageDataExtractor(RemoveTemporaryFiles = True)\n",
    "MAT_DATA_PATH, IMG_DATA_PATH, MASK_DATA_PATH, DATA_README_PATH = dataExtractor.downloadAndExtractImages()"
   ]
  },
  {
   "cell_type": "code",
   "execution_count": 3,
   "metadata": {},
   "outputs": [
    {
     "data": {
      "text/plain": [
       "('data\\\\matData',\n",
       " 'data\\\\imgData\\\\img',\n",
       " 'data\\\\imgData\\\\mask',\n",
       " 'data\\\\README.txt')"
      ]
     },
     "execution_count": 3,
     "metadata": {},
     "output_type": "execute_result"
    }
   ],
   "source": [
    "MAT_DATA_PATH, IMG_DATA_PATH, MASK_DATA_PATH, DATA_README_PATH"
   ]
  },
  {
   "cell_type": "code",
   "execution_count": 4,
   "metadata": {},
   "outputs": [],
   "source": [
    "image_size = 128\n",
    "image_channels = 1\n",
    "epochs = 30\n",
    "batch_size = 64\n",
    "\n",
    "# there are a total of 3064 images.\n",
    "# so fixing 2900 of data available for training set\n",
    "# 200 for validation set and 64 for test set.\n",
    "validation_data_size = 200\n",
    "test_data_size = 64\n",
    "train_data_size = 2800"
   ]
  },
  {
   "cell_type": "code",
   "execution_count": 5,
   "metadata": {},
   "outputs": [],
   "source": [
    "def VisualizeImageAndMask(image, mask, prediction_img = None):\n",
    "    \n",
    "    \"\"\"\n",
    "    \n",
    "    Displays the image, mask and the predicted mask\n",
    "    of the input image.\n",
    "    \n",
    "    Args:\n",
    "        image: the original image.\n",
    "        mask: the given mask of the image.\n",
    "        prediction_img: the predicted mask of the image.\n",
    "        \n",
    "    Return:\n",
    "        None\n",
    "        \n",
    "    \"\"\"\n",
    "    fig = plt.figure()\n",
    "    fig.subplots_adjust(hspace = 0.6, wspace = 0.6)\n",
    "    fig.suptitle('Image & Mask(s)', fontsize = 15)\n",
    "    fig.subplots_adjust(top = 1.15)\n",
    "    \n",
    "    ax = fig.add_subplot(1, 3, 1)\n",
    "    ax.imshow(image, cmap = \"gray\")\n",
    "    setTitleAndRemoveTicks(ax, 'Original\\nImage')\n",
    "    \n",
    "    ax = fig.add_subplot(1, 3, 2)\n",
    "    ax.imshow(mask, cmap = \"gray\")\n",
    "    setTitleAndRemoveTicks(ax, 'Original\\nMask')\n",
    "    \n",
    "    if prediction_img is not None:\n",
    "        #prediction_img = prediction_img * 255\n",
    "        ax = fig.add_subplot(1, 3, 3)\n",
    "        ax.imshow(np.reshape(prediction_img, (image_size, image_size)), cmap = \"gray\")\n",
    "        setTitleAndRemoveTicks(ax, 'Predicted\\nMask')\n",
    "    \n",
    "def setTitleAndRemoveTicks(axes, title):\n",
    "    \n",
    "    \"\"\"\n",
    "    Sets the sub-plot title and removes the \n",
    "    x & y ticks on the respective axes.\n",
    "    \n",
    "    Args:\n",
    "        axes: the subplot.\n",
    "        title: title of the subplot.\n",
    "        \n",
    "    Return:\n",
    "        None\n",
    "        \n",
    "    \"\"\"\n",
    "    \n",
    "    # set plot title\n",
    "    axes.title.set_text(title)\n",
    "    \n",
    "    # remove the ticks\n",
    "    axes.set_xticks([])\n",
    "    axes.set_yticks([])"
   ]
  },
  {
   "cell_type": "code",
   "execution_count": 6,
   "metadata": {},
   "outputs": [],
   "source": [
    "# get the ids of the images.\n",
    "# os.walk yields a 3-tuple (dirpath, dirnames, filenames). We need the directory names here.\n",
    "IMG_DATA_PATH = 'data\\\\imgData\\\\img'\n",
    "MASK_DATA_PATH = 'data\\\\imgData\\\\mask'\n",
    "image_ids = next(os.walk(IMG_DATA_PATH))[2]\n",
    "np.random.shuffle(image_ids)\n",
    "\n",
    "# partition the data into train, test and validation sets.\n",
    "testing_data_ids = image_ids[:test_data_size]\n",
    "validation_data_ids = image_ids[:validation_data_size]\n",
    "training_data_ids = image_ids[:train_data_size]"
   ]
  },
  {
   "cell_type": "code",
   "execution_count": 7,
   "metadata": {
    "scrolled": true
   },
   "outputs": [
    {
     "name": "stdout",
     "output_type": "stream",
     "text": [
      "Batch Dimension Details: (64, 128, 128) (64, 128, 128)\n"
     ]
    }
   ],
   "source": [
    "temp_data_generator = ImageDataGen(image_ids = training_data_ids,\n",
    "                                   img_path = IMG_DATA_PATH, \n",
    "                                   mask_path = MASK_DATA_PATH,\n",
    "                                   batch_size = batch_size, \n",
    "                                   image_size = image_size)\n",
    "\n",
    "# get one batch of data\n",
    "images, masks = temp_data_generator.__getitem__(0)\n",
    "print(\"Batch Dimension Details:\", images.shape, masks.shape)"
   ]
  },
  {
   "cell_type": "code",
   "execution_count": 8,
   "metadata": {},
   "outputs": [
    {
     "data": {
      "image/png": "[encoded data removed]",
      "text/plain": [
       "<Figure size 432x288 with 2 Axes>"
      ]
     },
     "metadata": {},
     "output_type": "display_data"
    }
   ],
   "source": [
    "VisualizeImageAndMask(image = images[2], mask = masks[2])"
   ]
  },
  {
   "cell_type": "code",
   "execution_count": 9,
   "metadata": {},
   "outputs": [],
   "source": [
    "temp_data_generator = None"
   ]
  },
  {
   "cell_type": "markdown",
   "metadata": {},
   "source": [
    "### Model Training and Validation\n",
    "\n",
    "#### Model Initialization"
   ]
  },
  {
   "cell_type": "code",
   "execution_count": 10,
   "metadata": {},
   "outputs": [],
   "source": [
    "# Initialize the Unet++ with the default parameters. \n",
    "# The default params are the one that were used in the original paper.\n",
    "# Input shape - (512, 512, 1), \n",
    "# filters [32, 64, 128, 256, 512].\n",
    "UNetPP = UNetPlusPlus(input_shape = (128, 128, 1), deep_supervision = False)\n",
    "\n",
    "# call the build netowrk API to build the network.\n",
    "model = UNetPP.BuildNetwork()"
   ]
  },
  {
   "cell_type": "code",
   "execution_count": 11,
   "metadata": {},
   "outputs": [
    {
     "name": "stdout",
     "output_type": "stream",
     "text": [
      "Model: \"UNetPP\"\n",
      "__________________________________________________________________________________________________\n",
      "Layer (type)                    Output Shape         Param #     Connected to                     \n",
      "==================================================================================================\n",
      "InputLayer (InputLayer)         [(None, 128, 128, 1) 0                                            \n",
      "__________________________________________________________________________________________________\n",
      "conv00_1 (Conv2D)               (None, 128, 128, 32) 320         InputLayer[0][0]                 \n",
      "__________________________________________________________________________________________________\n",
      "X00_ (Dropout)                  (None, 128, 128, 32) 0           conv00_1[0][0]                   \n",
      "__________________________________________________________________________________________________\n",
      "conv00_2 (Conv2D)               (None, 128, 128, 32) 9248        X00_[0][0]                       \n",
      "__________________________________________________________________________________________________\n",
      "X00 (Dropout)                   (None, 128, 128, 32) 0           conv00_2[0][0]                   \n",
      "__________________________________________________________________________________________________\n",
      "pool0 (MaxPooling2D)            (None, 64, 64, 32)   0           X00[0][0]                        \n",
      "__________________________________________________________________________________________________\n",
      "conv10_1 (Conv2D)               (None, 64, 64, 64)   18496       pool0[0][0]                      \n",
      "__________________________________________________________________________________________________\n",
      "X10_ (Dropout)                  (None, 64, 64, 64)   0           conv10_1[0][0]                   \n",
      "__________________________________________________________________________________________________\n",
      "conv10_2 (Conv2D)               (None, 64, 64, 64)   36928       X10_[0][0]                       \n",
      "__________________________________________________________________________________________________\n",
      "X10 (Dropout)                   (None, 64, 64, 64)   0           conv10_2[0][0]                   \n",
      "__________________________________________________________________________________________________\n",
      "pool1 (MaxPooling2D)            (None, 32, 32, 64)   0           X10[0][0]                        \n",
      "__________________________________________________________________________________________________\n",
      "conv20_1 (Conv2D)               (None, 32, 32, 128)  73856       pool1[0][0]                      \n",
      "__________________________________________________________________________________________________\n",
      "X20_ (Dropout)                  (None, 32, 32, 128)  0           conv20_1[0][0]                   \n",
      "__________________________________________________________________________________________________\n",
      "conv20_2 (Conv2D)               (None, 32, 32, 128)  147584      X20_[0][0]                       \n",
      "__________________________________________________________________________________________________\n",
      "X20 (Dropout)                   (None, 32, 32, 128)  0           conv20_2[0][0]                   \n",
      "__________________________________________________________________________________________________\n",
      "pool2 (MaxPooling2D)            (None, 16, 16, 128)  0           X20[0][0]                        \n",
      "__________________________________________________________________________________________________\n",
      "conv30_1 (Conv2D)               (None, 16, 16, 256)  295168      pool2[0][0]                      \n",
      "__________________________________________________________________________________________________\n",
      "X30_ (Dropout)                  (None, 16, 16, 256)  0           conv30_1[0][0]                   \n",
      "__________________________________________________________________________________________________\n",
      "conv30_2 (Conv2D)               (None, 16, 16, 256)  590080      X30_[0][0]                       \n",
      "__________________________________________________________________________________________________\n",
      "X30 (Dropout)                   (None, 16, 16, 256)  0           conv30_2[0][0]                   \n",
      "__________________________________________________________________________________________________\n",
      "pool3 (MaxPooling2D)            (None, 8, 8, 256)    0           X30[0][0]                        \n",
      "__________________________________________________________________________________________________\n",
      "conv40_1 (Conv2D)               (None, 8, 8, 512)    1180160     pool3[0][0]                      \n",
      "__________________________________________________________________________________________________\n",
      "X40_ (Dropout)                  (None, 8, 8, 512)    0           conv40_1[0][0]                   \n",
      "__________________________________________________________________________________________________\n",
      "conv40_2 (Conv2D)               (None, 8, 8, 512)    2359808     X40_[0][0]                       \n",
      "__________________________________________________________________________________________________\n",
      "X40 (Dropout)                   (None, 8, 8, 512)    0           conv40_2[0][0]                   \n",
      "__________________________________________________________________________________________________\n",
      "upsample31 (Conv2DTranspose)    (None, 16, 16, 256)  524544      X40[0][0]                        \n",
      "__________________________________________________________________________________________________\n",
      "concat31 (Concatenate)          (None, 16, 16, 512)  0           upsample31[0][0]                 \n",
      "                                                                 X30[0][0]                        \n",
      "__________________________________________________________________________________________________\n",
      "upsample21 (Conv2DTranspose)    (None, 32, 32, 128)  131200      X30[0][0]                        \n",
      "__________________________________________________________________________________________________\n",
      "conv31_1 (Conv2D)               (None, 16, 16, 256)  1179904     concat31[0][0]                   \n",
      "__________________________________________________________________________________________________\n",
      "concat21 (Concatenate)          (None, 32, 32, 256)  0           upsample21[0][0]                 \n",
      "                                                                 X20[0][0]                        \n",
      "__________________________________________________________________________________________________\n",
      "upsample11 (Conv2DTranspose)    (None, 64, 64, 64)   32832       X20[0][0]                        \n",
      "__________________________________________________________________________________________________\n",
      "X31_ (Dropout)                  (None, 16, 16, 256)  0           conv31_1[0][0]                   \n",
      "__________________________________________________________________________________________________\n",
      "conv21_1 (Conv2D)               (None, 32, 32, 128)  295040      concat21[0][0]                   \n",
      "__________________________________________________________________________________________________\n",
      "concat11 (Concatenate)          (None, 64, 64, 128)  0           upsample11[0][0]                 \n",
      "                                                                 X10[0][0]                        \n",
      "__________________________________________________________________________________________________\n",
      "upsample01 (Conv2DTranspose)    (None, 128, 128, 32) 8224        X10[0][0]                        \n",
      "__________________________________________________________________________________________________\n",
      "conv31_2 (Conv2D)               (None, 16, 16, 256)  590080      X31_[0][0]                       \n",
      "__________________________________________________________________________________________________\n",
      "X21_ (Dropout)                  (None, 32, 32, 128)  0           conv21_1[0][0]                   \n",
      "__________________________________________________________________________________________________\n",
      "conv11_1 (Conv2D)               (None, 64, 64, 64)   73792       concat11[0][0]                   \n",
      "__________________________________________________________________________________________________\n",
      "concat01 (Concatenate)          (None, 128, 128, 64) 0           upsample01[0][0]                 \n",
      "                                                                 X00[0][0]                        \n",
      "__________________________________________________________________________________________________\n",
      "X31 (Dropout)                   (None, 16, 16, 256)  0           conv31_2[0][0]                   \n",
      "__________________________________________________________________________________________________\n",
      "conv21_2 (Conv2D)               (None, 32, 32, 128)  147584      X21_[0][0]                       \n",
      "__________________________________________________________________________________________________\n",
      "X11_ (Dropout)                  (None, 64, 64, 64)   0           conv11_1[0][0]                   \n",
      "__________________________________________________________________________________________________\n",
      "conv01_1 (Conv2D)               (None, 128, 128, 32) 18464       concat01[0][0]                   \n",
      "__________________________________________________________________________________________________\n",
      "upsample22 (Conv2DTranspose)    (None, 32, 32, 128)  131200      X31[0][0]                        \n",
      "__________________________________________________________________________________________________\n",
      "X21 (Dropout)                   (None, 32, 32, 128)  0           conv21_2[0][0]                   \n",
      "__________________________________________________________________________________________________\n",
      "conv11_2 (Conv2D)               (None, 64, 64, 64)   36928       X11_[0][0]                       \n",
      "__________________________________________________________________________________________________\n",
      "X01_ (Dropout)                  (None, 128, 128, 32) 0           conv01_1[0][0]                   \n",
      "__________________________________________________________________________________________________\n",
      "concat22 (Concatenate)          (None, 32, 32, 384)  0           upsample22[0][0]                 \n",
      "                                                                 X20[0][0]                        \n",
      "                                                                 X21[0][0]                        \n",
      "__________________________________________________________________________________________________\n",
      "X11 (Dropout)                   (None, 64, 64, 64)   0           conv11_2[0][0]                   \n",
      "__________________________________________________________________________________________________\n",
      "upsample12 (Conv2DTranspose)    (None, 64, 64, 64)   32832       X21[0][0]                        \n",
      "__________________________________________________________________________________________________\n",
      "conv01_2 (Conv2D)               (None, 128, 128, 32) 9248        X01_[0][0]                       \n",
      "__________________________________________________________________________________________________\n",
      "conv22_1 (Conv2D)               (None, 32, 32, 128)  442496      concat22[0][0]                   \n",
      "__________________________________________________________________________________________________\n",
      "concat12 (Concatenate)          (None, 64, 64, 192)  0           upsample12[0][0]                 \n",
      "                                                                 X10[0][0]                        \n",
      "                                                                 X11[0][0]                        \n",
      "__________________________________________________________________________________________________\n",
      "X01 (Dropout)                   (None, 128, 128, 32) 0           conv01_2[0][0]                   \n",
      "__________________________________________________________________________________________________\n",
      "upsample02 (Conv2DTranspose)    (None, 128, 128, 32) 8224        X11[0][0]                        \n",
      "__________________________________________________________________________________________________\n",
      "X22_ (Dropout)                  (None, 32, 32, 128)  0           conv22_1[0][0]                   \n",
      "__________________________________________________________________________________________________\n",
      "conv12_1 (Conv2D)               (None, 64, 64, 64)   110656      concat12[0][0]                   \n",
      "__________________________________________________________________________________________________\n",
      "concat02 (Concatenate)          (None, 128, 128, 96) 0           upsample02[0][0]                 \n",
      "                                                                 X00[0][0]                        \n",
      "                                                                 X01[0][0]                        \n",
      "__________________________________________________________________________________________________\n",
      "conv22_2 (Conv2D)               (None, 32, 32, 128)  147584      X22_[0][0]                       \n",
      "__________________________________________________________________________________________________\n",
      "X12_ (Dropout)                  (None, 64, 64, 64)   0           conv12_1[0][0]                   \n",
      "__________________________________________________________________________________________________\n",
      "conv02_1 (Conv2D)               (None, 128, 128, 32) 27680       concat02[0][0]                   \n",
      "__________________________________________________________________________________________________\n",
      "X22 (Dropout)                   (None, 32, 32, 128)  0           conv22_2[0][0]                   \n",
      "__________________________________________________________________________________________________\n",
      "conv12_2 (Conv2D)               (None, 64, 64, 64)   36928       X12_[0][0]                       \n",
      "__________________________________________________________________________________________________\n",
      "X02_ (Dropout)                  (None, 128, 128, 32) 0           conv02_1[0][0]                   \n",
      "__________________________________________________________________________________________________\n",
      "upsample13 (Conv2DTranspose)    (None, 64, 64, 64)   32832       X22[0][0]                        \n",
      "__________________________________________________________________________________________________\n",
      "X12 (Dropout)                   (None, 64, 64, 64)   0           conv12_2[0][0]                   \n",
      "__________________________________________________________________________________________________\n",
      "conv02_2 (Conv2D)               (None, 128, 128, 32) 9248        X02_[0][0]                       \n",
      "__________________________________________________________________________________________________\n",
      "concat13 (Concatenate)          (None, 64, 64, 256)  0           upsample13[0][0]                 \n",
      "                                                                 X10[0][0]                        \n",
      "                                                                 X11[0][0]                        \n",
      "                                                                 X12[0][0]                        \n",
      "__________________________________________________________________________________________________\n",
      "X02 (Dropout)                   (None, 128, 128, 32) 0           conv02_2[0][0]                   \n",
      "__________________________________________________________________________________________________\n",
      "upsample03 (Conv2DTranspose)    (None, 128, 128, 32) 8224        X12[0][0]                        \n",
      "__________________________________________________________________________________________________\n",
      "conv13_1 (Conv2D)               (None, 64, 64, 64)   147520      concat13[0][0]                   \n",
      "__________________________________________________________________________________________________\n",
      "concat03 (Concatenate)          (None, 128, 128, 128 0           upsample03[0][0]                 \n",
      "                                                                 X00[0][0]                        \n",
      "                                                                 X01[0][0]                        \n",
      "                                                                 X02[0][0]                        \n",
      "__________________________________________________________________________________________________\n",
      "X13_ (Dropout)                  (None, 64, 64, 64)   0           conv13_1[0][0]                   \n",
      "__________________________________________________________________________________________________\n",
      "conv03_1 (Conv2D)               (None, 128, 128, 32) 36896       concat03[0][0]                   \n",
      "__________________________________________________________________________________________________\n",
      "conv13_2 (Conv2D)               (None, 64, 64, 64)   36928       X13_[0][0]                       \n",
      "__________________________________________________________________________________________________\n",
      "X03_ (Dropout)                  (None, 128, 128, 32) 0           conv03_1[0][0]                   \n",
      "__________________________________________________________________________________________________\n",
      "X13 (Dropout)                   (None, 64, 64, 64)   0           conv13_2[0][0]                   \n",
      "__________________________________________________________________________________________________\n",
      "conv03_2 (Conv2D)               (None, 128, 128, 32) 9248        X03_[0][0]                       \n",
      "__________________________________________________________________________________________________\n",
      "upsample04 (Conv2DTranspose)    (None, 128, 128, 32) 8224        X13[0][0]                        \n",
      "__________________________________________________________________________________________________\n",
      "X03 (Dropout)                   (None, 128, 128, 32) 0           conv03_2[0][0]                   \n",
      "__________________________________________________________________________________________________\n",
      "concat04 (Concatenate)          (None, 128, 128, 160 0           upsample04[0][0]                 \n",
      "                                                                 X00[0][0]                        \n",
      "                                                                 X01[0][0]                        \n",
      "                                                                 X02[0][0]                        \n",
      "                                                                 X03[0][0]                        \n",
      "__________________________________________________________________________________________________\n",
      "conv04_1 (Conv2D)               (None, 128, 128, 32) 46112       concat04[0][0]                   \n",
      "__________________________________________________________________________________________________\n",
      "X04_ (Dropout)                  (None, 128, 128, 32) 0           conv04_1[0][0]                   \n",
      "__________________________________________________________________________________________________\n",
      "conv04_2 (Conv2D)               (None, 128, 128, 32) 9248        X04_[0][0]                       \n",
      "__________________________________________________________________________________________________\n",
      "X04 (Dropout)                   (None, 128, 128, 32) 0           conv04_2[0][0]                   \n",
      "__________________________________________________________________________________________________\n",
      "op4 (Conv2D)                    (None, 128, 128, 1)  33          X04[0][0]                        \n",
      "==================================================================================================\n",
      "Total params: 9,041,601\n",
      "Trainable params: 9,041,601\n",
      "Non-trainable params: 0\n",
      "__________________________________________________________________________________________________\n"
     ]
    }
   ],
   "source": [
    "# compile & summarize the model\n",
    "if model is not None:\n",
    "    UNetPP.CompileAndSummarizeModel(model = model)"
   ]
  },
  {
   "cell_type": "markdown",
   "metadata": {},
   "source": [
    "#### Initialize the Data Generators"
   ]
  },
  {
   "cell_type": "code",
   "execution_count": 12,
   "metadata": {},
   "outputs": [],
   "source": [
    "train_gen = ImageDataGen(image_ids = training_data_ids,\n",
    "                         img_path = IMG_DATA_PATH, \n",
    "                         mask_path = MASK_DATA_PATH, \n",
    "                         image_size = image_size, \n",
    "                         batch_size = batch_size)\n",
    "\n",
    "valid_gen = ImageDataGen(image_ids = validation_data_ids, \n",
    "                         img_path = IMG_DATA_PATH, \n",
    "                         mask_path = MASK_DATA_PATH,\n",
    "                         image_size = image_size, \n",
    "                         batch_size = batch_size)\n",
    "\n",
    "test_gen = ImageDataGen(image_ids = testing_data_ids, \n",
    "                        img_path = IMG_DATA_PATH, \n",
    "                        mask_path = MASK_DATA_PATH,\n",
    "                        image_size = image_size, \n",
    "                        batch_size = batch_size)\n",
    "\n",
    "train_steps = len(training_data_ids)//batch_size\n",
    "valid_steps = len(validation_data_ids)//batch_size"
   ]
  },
  {
   "cell_type": "code",
   "execution_count": 13,
   "metadata": {},
   "outputs": [
    {
     "data": {
      "text/plain": [
       "(43, 3)"
      ]
     },
     "execution_count": 13,
     "metadata": {},
     "output_type": "execute_result"
    }
   ],
   "source": [
    "train_steps, valid_steps"
   ]
  },
  {
   "cell_type": "markdown",
   "metadata": {},
   "source": [
    "#### Model Training"
   ]
  },
  {
   "cell_type": "code",
   "execution_count": 14,
   "metadata": {
    "scrolled": true
   },
   "outputs": [
    {
     "name": "stdout",
     "output_type": "stream",
     "text": [
      "Epoch 1/30\n",
      "43/43 [==============================] - 1475s 34s/step - loss: 0.8190 - acc: 0.9503 - __iou_loss_core: 0.3295 - val_loss: 0.7801 - val_acc: 0.9845 - val___iou_loss_core: 0.6199\n",
      "Epoch 2/30\n",
      "43/43 [==============================] - 996s 23s/step - loss: 0.6874 - acc: 0.9751 - __iou_loss_core: 0.5616 - val_loss: 0.9808 - val_acc: 0.9908 - val___iou_loss_core: 0.8625\n",
      "Epoch 3/30\n",
      "43/43 [==============================] - 436s 10s/step - loss: 0.6622 - acc: 0.9765 - __iou_loss_core: 0.5827 - val_loss: 0.9737 - val_acc: 0.9858 - val___iou_loss_core: 0.8323\n",
      "Epoch 4/30\n",
      "43/43 [==============================] - 439s 10s/step - loss: 0.6355 - acc: 0.9794 - __iou_loss_core: 0.5995 - val_loss: 0.8686 - val_acc: 0.9812 - val___iou_loss_core: 0.7302\n",
      "Epoch 5/30\n",
      "43/43 [==============================] - 451s 10s/step - loss: 0.6235 - acc: 0.9789 - __iou_loss_core: 0.5944 - val_loss: 0.9985 - val_acc: 0.9843 - val___iou_loss_core: 0.8677\n",
      "Epoch 6/30\n",
      "43/43 [==============================] - 436s 10s/step - loss: 0.6195 - acc: 0.9780 - __iou_loss_core: 0.5931 - val_loss: 0.7914 - val_acc: 0.9871 - val___iou_loss_core: 0.8008\n",
      "Epoch 7/30\n",
      "43/43 [==============================] - 438s 10s/step - loss: 0.6087 - acc: 0.9781 - __iou_loss_core: 0.5895 - val_loss: 0.9995 - val_acc: 0.9826 - val___iou_loss_core: 0.8676\n",
      "Epoch 8/30\n",
      "43/43 [==============================] - 436s 10s/step - loss: 0.5871 - acc: 0.9797 - __iou_loss_core: 0.6238 - val_loss: 0.9391 - val_acc: 0.9787 - val___iou_loss_core: 0.7519\n",
      "Epoch 9/30\n",
      "43/43 [==============================] - 440s 10s/step - loss: 0.5607 - acc: 0.9815 - __iou_loss_core: 0.6173 - val_loss: 0.9734 - val_acc: 0.9863 - val___iou_loss_core: 0.7997\n",
      "Epoch 10/30\n",
      "43/43 [==============================] - 435s 10s/step - loss: 0.5457 - acc: 0.9816 - __iou_loss_core: 0.6290 - val_loss: 0.8925 - val_acc: 0.9859 - val___iou_loss_core: 0.7796\n",
      "Epoch 11/30\n",
      "43/43 [==============================] - 440s 10s/step - loss: 0.5455 - acc: 0.9802 - __iou_loss_core: 0.6201 - val_loss: 0.6918 - val_acc: 0.9855 - val___iou_loss_core: 0.8062\n",
      "Epoch 12/30\n",
      "43/43 [==============================] - 437s 10s/step - loss: 0.5199 - acc: 0.9827 - __iou_loss_core: 0.6514 - val_loss: 0.7573 - val_acc: 0.9865 - val___iou_loss_core: 0.8191\n",
      "Epoch 13/30\n",
      "43/43 [==============================] - 446s 10s/step - loss: 0.4992 - acc: 0.9831 - __iou_loss_core: 0.6575 - val_loss: 0.5914 - val_acc: 0.9862 - val___iou_loss_core: 0.8068\n",
      "Epoch 14/30\n",
      "43/43 [==============================] - 441s 10s/step - loss: 0.4639 - acc: 0.9829 - __iou_loss_core: 0.6623 - val_loss: 0.6075 - val_acc: 0.9869 - val___iou_loss_core: 0.8167\n",
      "Epoch 15/30\n",
      "43/43 [==============================] - 441s 10s/step - loss: 0.4542 - acc: 0.9837 - __iou_loss_core: 0.6914 - val_loss: 0.5976 - val_acc: 0.9823 - val___iou_loss_core: 0.8362\n",
      "Epoch 16/30\n",
      "43/43 [==============================] - 488s 11s/step - loss: 0.4477 - acc: 0.9838 - __iou_loss_core: 0.6934 - val_loss: 0.4429 - val_acc: 0.9849 - val___iou_loss_core: 0.7651\n",
      "Epoch 17/30\n",
      "43/43 [==============================] - 459s 11s/step - loss: 0.4137 - acc: 0.9852 - __iou_loss_core: 0.7073 - val_loss: 0.5625 - val_acc: 0.9849 - val___iou_loss_core: 0.8588\n",
      "Epoch 18/30\n",
      "43/43 [==============================] - 437s 10s/step - loss: 0.4281 - acc: 0.9847 - __iou_loss_core: 0.7137 - val_loss: 0.6858 - val_acc: 0.9847 - val___iou_loss_core: 0.7535\n",
      "Epoch 19/30\n",
      "43/43 [==============================] - 440s 10s/step - loss: 0.4257 - acc: 0.9849 - __iou_loss_core: 0.7069 - val_loss: 0.3718 - val_acc: 0.9878 - val___iou_loss_core: 0.7756\n",
      "Epoch 20/30\n",
      "43/43 [==============================] - 439s 10s/step - loss: 0.3797 - acc: 0.9854 - __iou_loss_core: 0.7323 - val_loss: 0.6021 - val_acc: 0.9846 - val___iou_loss_core: 0.7195\n",
      "Epoch 21/30\n",
      "43/43 [==============================] - 444s 10s/step - loss: 0.3840 - acc: 0.9864 - __iou_loss_core: 0.7345 - val_loss: 0.3756 - val_acc: 0.9905 - val___iou_loss_core: 0.8807\n",
      "Epoch 22/30\n",
      "43/43 [==============================] - 443s 10s/step - loss: 0.3879 - acc: 0.9850 - __iou_loss_core: 0.7410 - val_loss: 0.4975 - val_acc: 0.9899 - val___iou_loss_core: 0.7887\n",
      "Epoch 23/30\n",
      "43/43 [==============================] - 453s 11s/step - loss: 0.3771 - acc: 0.9859 - __iou_loss_core: 0.7468 - val_loss: 0.5410 - val_acc: 0.9876 - val___iou_loss_core: 0.8337\n",
      "Epoch 24/30\n",
      "43/43 [==============================] - 444s 10s/step - loss: 0.3582 - acc: 0.9865 - __iou_loss_core: 0.7551 - val_loss: 0.4914 - val_acc: 0.9862 - val___iou_loss_core: 0.8141\n",
      "Epoch 25/30\n",
      "43/43 [==============================] - 528s 12s/step - loss: 0.3872 - acc: 0.9858 - __iou_loss_core: 0.7411 - val_loss: 0.4308 - val_acc: 0.9874 - val___iou_loss_core: 0.8207\n",
      "Epoch 26/30\n",
      "43/43 [==============================] - 472s 11s/step - loss: 0.3650 - acc: 0.9863 - __iou_loss_core: 0.7662 - val_loss: 0.6154 - val_acc: 0.9856 - val___iou_loss_core: 0.8649\n",
      "Epoch 27/30\n",
      "43/43 [==============================] - 453s 11s/step - loss: 0.3657 - acc: 0.9868 - __iou_loss_core: 0.7562 - val_loss: 0.6227 - val_acc: 0.9826 - val___iou_loss_core: 0.6639\n",
      "Epoch 28/30\n",
      "43/43 [==============================] - 463s 11s/step - loss: 0.3305 - acc: 0.9871 - __iou_loss_core: 0.7716 - val_loss: 0.4544 - val_acc: 0.9869 - val___iou_loss_core: 0.7695\n",
      "Epoch 29/30\n",
      "43/43 [==============================] - 460s 11s/step - loss: 0.3462 - acc: 0.9868 - __iou_loss_core: 0.7659 - val_loss: 0.3401 - val_acc: 0.9920 - val___iou_loss_core: 0.8406\n",
      "Epoch 30/30\n",
      "43/43 [==============================] - 492s 11s/step - loss: 0.3318 - acc: 0.9872 - __iou_loss_core: 0.7766 - val_loss: 0.4464 - val_acc: 0.9881 - val___iou_loss_core: 0.7611\n"
     ]
    },
    {
     "data": {
      "text/plain": [
       "<tensorflow.python.keras.callbacks.History at 0x2c687305908>"
      ]
     },
     "execution_count": 14,
     "metadata": {},
     "output_type": "execute_result"
    }
   ],
   "source": [
    "model.fit(train_gen, \n",
    "          validation_data = valid_gen, \n",
    "          steps_per_epoch = train_steps, \n",
    "          validation_steps = valid_steps, \n",
    "          epochs = epochs)"
   ]
  },
  {
   "cell_type": "markdown",
   "metadata": {},
   "source": [
    "#### Save the Model"
   ]
  },
  {
   "cell_type": "code",
   "execution_count": 15,
   "metadata": {},
   "outputs": [],
   "source": [
    "model_dir = \"models\"\n",
    "model_name = \"UNetpp_BrainTumorSegment.h5\"\n",
    "\n",
    "if not os.path.isdir(model_dir):\n",
    "    os.makedirs(model_dir)\n",
    "\n",
    "model.save_weights(os.path.join(model_dir, model_name))"
   ]
  },
  {
   "cell_type": "code",
   "execution_count": 25,
   "metadata": {},
   "outputs": [],
   "source": [
    "test_gen = ImageDataGen(image_ids = testing_data_ids, \n",
    "                        img_path = IMG_DATA_PATH, \n",
    "                        mask_path = MASK_DATA_PATH,\n",
    "                        image_size = image_size, \n",
    "                        batch_size = 32)"
   ]
  },
  {
   "cell_type": "markdown",
   "metadata": {},
   "source": [
    "### Model Testing and Prediction Visualizations"
   ]
  },
  {
   "cell_type": "code",
   "execution_count": 28,
   "metadata": {},
   "outputs": [],
   "source": [
    "# get the test set images\n",
    "test_images, test_masks = test_gen.__getitem__(0)\n",
    "predicted_masks = model.predict(test_images)\n",
    "\n",
    "predicted_masks = predicted_masks > 0.5"
   ]
  },
  {
   "cell_type": "code",
   "execution_count": 29,
   "metadata": {},
   "outputs": [],
   "source": [
    "test_images_2, test_masks_2 = test_gen.__getitem__(1)\n",
    "predicted_masks_2 = model.predict(test_images)\n",
    "\n",
    "predicted_masks_ = predicted_masks_2 > 0.5"
   ]
  },
  {
   "cell_type": "markdown",
   "metadata": {},
   "source": [
    "#### Viz 1"
   ]
  },
  {
   "cell_type": "code",
   "execution_count": 37,
   "metadata": {},
   "outputs": [
    {
     "data": {
      "image/png": "[encoded data removed]",
      "text/plain": [
       "<Figure size 432x288 with 3 Axes>"
      ]
     },
     "metadata": {},
     "output_type": "display_data"
    }
   ],
   "source": [
    "VisualizeImageAndMask(image = test_images_2[4], mask = test_masks_2[4], prediction_img = predicted_masks_[4])"
   ]
  },
  {
   "cell_type": "markdown",
   "metadata": {},
   "source": [
    "#### Viz 2"
   ]
  },
  {
   "cell_type": "code",
   "execution_count": 33,
   "metadata": {},
   "outputs": [
    {
     "data": {
      "image/png": "[encoded data removed]",
      "text/plain": [
       "<Figure size 432x288 with 3 Axes>"
      ]
     },
     "metadata": {},
     "output_type": "display_data"
    }
   ],
   "source": [
    "VisualizeImageAndMask(image = test_images[3], mask = test_masks[3], prediction_img = predicted_masks[3])"
   ]
  },
  {
   "cell_type": "markdown",
   "metadata": {},
   "source": [
    "#### Viz 3"
   ]
  },
  {
   "cell_type": "code",
   "execution_count": 34,
   "metadata": {},
   "outputs": [
    {
     "data": {
      "image/png": "[encoded data removed]",
      "text/plain": [
       "<Figure size 432x288 with 3 Axes>"
      ]
     },
     "metadata": {},
     "output_type": "display_data"
    }
   ],
   "source": [
    "VisualizeImageAndMask(image = test_images[22], mask = test_masks[22], prediction_img = predicted_masks[22])"
   ]
  },
  {
   "cell_type": "markdown",
   "metadata": {},
   "source": [
    "### Conclusion & Summary\n",
    "\n",
    "Comparing the microscopic image, original mask and the predicted mask, the model based on the UNet++ architecture is correctly able to segment the cell nuclei and generate the masks.\n",
    "\n",
    "#### Summary\n",
    "- UNet++ aims to improve segmentation accuracy, with a series of nested, dense skip pathways.\n",
    "- Redesigned skip pathways make optimization easier by getting the semantically similar feature maps.\n",
    "- Dense skip connections improve segmentation accuracy and make the gradient flow smoother.\n",
    "- Deep supervision allows for model complexity tuning to balance between speed and performance optimisation by allowing the model to toggle between 2 different training modes in the fast mode and the accurate mode."
   ]
  }
 ],
 "metadata": {
  "kernelspec": {
   "display_name": "'Python Interactive'",
   "language": "python",
   "name": "8a5f5495-eeb2-4b7a-aa82-13965b3179d6"
  },
  "language_info": {
   "codemirror_mode": {
    "name": "ipython",
    "version": 3
   },
   "file_extension": ".py",
   "mimetype": "text/x-python",
   "name": "python",
   "nbconvert_exporter": "python",
   "pygments_lexer": "ipython3",
   "version": "3.7.0"
  }
 },
 "nbformat": 4,
 "nbformat_minor": 2
}
